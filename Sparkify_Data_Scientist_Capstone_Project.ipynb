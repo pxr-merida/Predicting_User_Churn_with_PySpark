{
 "cells": [
  {
   "cell_type": "markdown",
   "metadata": {},
   "source": [
    "# Sparkify Project Workspace\n",
    "This workspace contains a tiny subset (128MB) of the full dataset available (12GB). Feel free to use this workspace to build your project, or to explore a smaller subset with Spark before deploying your cluster on the cloud. Instructions for setting up your Spark cluster is included in the last lesson of the Extracurricular Spark Course content.\n",
    "\n",
    "You can follow the steps below to guide your data analysis and model building portion of this project."
   ]
  },
  {
   "cell_type": "code",
   "execution_count": 1,
   "metadata": {},
   "outputs": [],
   "source": [
    "# import libraries\n",
    "import pyspark\n",
    "from pyspark import SparkConf\n",
    "from pyspark.sql import SparkSession\n",
    "from pyspark.sql.functions import udf\n",
    "from pyspark.sql.types import StringType\n",
    "from pyspark.sql.types import IntegerType\n",
    "from pyspark.sql.functions import isnan, count, when, col, desc, udf, col, sort_array, asc, avg, explode, concat, lit, min, max\n",
    "from pyspark.sql.functions import sum as Fsum\n",
    "import seaborn as sns \n",
    "from pyspark.ml.feature import VectorAssembler, StandardScaler\n",
    "from pyspark.ml.evaluation import MulticlassClassificationEvaluator\n",
    "from pyspark.ml.classification import LogisticRegression, RandomForestClassifier, GBTClassifier, LinearSVC,NaiveBayes\n",
    "from pyspark.ml.tuning import CrossValidator, ParamGridBuilder\n",
    "import datetime\n",
    "\n",
    "import numpy as np\n",
    "import pandas as pd\n",
    "%matplotlib inline\n",
    "import matplotlib.pyplot as plt\n",
    "\n"
   ]
  },
  {
   "cell_type": "code",
   "execution_count": 2,
   "metadata": {},
   "outputs": [],
   "source": [
    "# create a Spark session\n",
    "spark = SparkSession \\\n",
    "    .builder \\\n",
    "    .appName(\"Data Exploratory\") \\\n",
    "    .getOrCreate()"
   ]
  },
  {
   "cell_type": "code",
   "execution_count": 3,
   "metadata": {},
   "outputs": [
    {
     "data": {
      "text/html": [
       "\n",
       "            <div>\n",
       "                <p><b>SparkSession - in-memory</b></p>\n",
       "                \n",
       "        <div>\n",
       "            <p><b>SparkContext</b></p>\n",
       "\n",
       "            <p><a href=\"http://9b1f64b14d4f:4040\">Spark UI</a></p>\n",
       "\n",
       "            <dl>\n",
       "              <dt>Version</dt>\n",
       "                <dd><code>v2.4.3</code></dd>\n",
       "              <dt>Master</dt>\n",
       "                <dd><code>local[*]</code></dd>\n",
       "              <dt>AppName</dt>\n",
       "                <dd><code>Data Exploratory</code></dd>\n",
       "            </dl>\n",
       "        </div>\n",
       "        \n",
       "            </div>\n",
       "        "
      ],
      "text/plain": [
       "<pyspark.sql.session.SparkSession at 0x7f3a000d54a8>"
      ]
     },
     "execution_count": 3,
     "metadata": {},
     "output_type": "execute_result"
    }
   ],
   "source": [
    "#Check session\n",
    "spark.sparkContext.getConf().getAll()\n",
    "spark"
   ]
  },
  {
   "cell_type": "markdown",
   "metadata": {},
   "source": [
    "# Load and Clean Dataset\n",
    "In this workspace, the mini-dataset file is `mini_sparkify_event_data.json`. Load and clean the dataset, checking for invalid or missing data - for example, records without userids or sessionids. "
   ]
  },
  {
   "cell_type": "code",
   "execution_count": 4,
   "metadata": {},
   "outputs": [],
   "source": [
    "path = \"mini_sparkify_event_data.json\"\n",
    "user_log = spark.read.json(path)\n",
    "#write csv\n",
    "#out_path = \"data/sparkify_mini.csv\"\n",
    "#user_log.write.save(out_path, format=\"csv\", header=True)\n",
    "#user_log_2 = spark.read.csv(out_path, header=True)"
   ]
  },
  {
   "cell_type": "markdown",
   "metadata": {},
   "source": [
    "# Exploratory Data Analysis\n",
    "When you're working with the full dataset, perform EDA by loading a small subset of the data and doing basic manipulations within Spark. In this workspace, you are already provided a small subset of data you can explore.\n",
    "\n",
    "### Define Churn\n",
    "\n",
    "Once you've done some preliminary analysis, create a column `Churn` to use as the label for your model. I suggest using the `Cancellation Confirmation` events to define your churn, which happen for both paid and free users. As a bonus task, you can also look into the `Downgrade` events.\n",
    "\n",
    "### Explore Data\n",
    "Once you've defined churn, perform some exploratory data analysis to observe the behavior for users who stayed vs users who churned. You can start by exploring aggregates on these two groups of users, observing how much of a specific action they experienced per a certain time unit or number of songs played."
   ]
  },
  {
   "cell_type": "code",
   "execution_count": 5,
   "metadata": {},
   "outputs": [
    {
     "name": "stdout",
     "output_type": "stream",
     "text": [
      "+--------------------+\n",
      "|                page|\n",
      "+--------------------+\n",
      "|              Cancel|\n",
      "|    Submit Downgrade|\n",
      "|         Thumbs Down|\n",
      "|                Home|\n",
      "|           Downgrade|\n",
      "|         Roll Advert|\n",
      "|              Logout|\n",
      "|       Save Settings|\n",
      "|Cancellation Conf...|\n",
      "|               About|\n",
      "| Submit Registration|\n",
      "|            Settings|\n",
      "|               Login|\n",
      "|            Register|\n",
      "|     Add to Playlist|\n",
      "|          Add Friend|\n",
      "|            NextSong|\n",
      "|           Thumbs Up|\n",
      "|                Help|\n",
      "|             Upgrade|\n",
      "+--------------------+\n",
      "only showing top 20 rows\n",
      "\n"
     ]
    }
   ],
   "source": [
    "#select(): returns a new DataFrame with the selected columns\n",
    "user_log.select(\"page\").distinct().show()"
   ]
  },
  {
   "cell_type": "code",
   "execution_count": 6,
   "metadata": {},
   "outputs": [
    {
     "data": {
      "text/plain": [
       "[Row(artist='Martha Tilston', auth='Logged In', firstName='Colin', gender='M', itemInSession=50, lastName='Freeman', length=277.89016, level='paid', location='Bakersfield, CA', method='PUT', page='NextSong', registration=1538173362000, sessionId=29, song='Rockpools', status=200, ts=1538352117000, userAgent='Mozilla/5.0 (Windows NT 6.1; WOW64; rv:31.0) Gecko/20100101 Firefox/31.0', userId='30'),\n",
       " Row(artist='Five Iron Frenzy', auth='Logged In', firstName='Micah', gender='M', itemInSession=79, lastName='Long', length=236.09424, level='free', location='Boston-Cambridge-Newton, MA-NH', method='PUT', page='NextSong', registration=1538331630000, sessionId=8, song='Canada', status=200, ts=1538352180000, userAgent='\"Mozilla/5.0 (Windows NT 6.1; WOW64) AppleWebKit/537.36 (KHTML, like Gecko) Chrome/37.0.2062.103 Safari/537.36\"', userId='9'),\n",
       " Row(artist='Adam Lambert', auth='Logged In', firstName='Colin', gender='M', itemInSession=51, lastName='Freeman', length=282.8273, level='paid', location='Bakersfield, CA', method='PUT', page='NextSong', registration=1538173362000, sessionId=29, song='Time For Miracles', status=200, ts=1538352394000, userAgent='Mozilla/5.0 (Windows NT 6.1; WOW64; rv:31.0) Gecko/20100101 Firefox/31.0', userId='30'),\n",
       " Row(artist='Enigma', auth='Logged In', firstName='Micah', gender='M', itemInSession=80, lastName='Long', length=262.71302, level='free', location='Boston-Cambridge-Newton, MA-NH', method='PUT', page='NextSong', registration=1538331630000, sessionId=8, song='Knocking On Forbidden Doors', status=200, ts=1538352416000, userAgent='\"Mozilla/5.0 (Windows NT 6.1; WOW64) AppleWebKit/537.36 (KHTML, like Gecko) Chrome/37.0.2062.103 Safari/537.36\"', userId='9'),\n",
       " Row(artist='Daft Punk', auth='Logged In', firstName='Colin', gender='M', itemInSession=52, lastName='Freeman', length=223.60771, level='paid', location='Bakersfield, CA', method='PUT', page='NextSong', registration=1538173362000, sessionId=29, song='Harder Better Faster Stronger', status=200, ts=1538352676000, userAgent='Mozilla/5.0 (Windows NT 6.1; WOW64; rv:31.0) Gecko/20100101 Firefox/31.0', userId='30')]"
      ]
     },
     "execution_count": 6,
     "metadata": {},
     "output_type": "execute_result"
    }
   ],
   "source": [
    "user_log.take(5)"
   ]
  },
  {
   "cell_type": "code",
   "execution_count": 7,
   "metadata": {},
   "outputs": [
    {
     "name": "stdout",
     "output_type": "stream",
     "text": [
      "root\n",
      " |-- artist: string (nullable = true)\n",
      " |-- auth: string (nullable = true)\n",
      " |-- firstName: string (nullable = true)\n",
      " |-- gender: string (nullable = true)\n",
      " |-- itemInSession: long (nullable = true)\n",
      " |-- lastName: string (nullable = true)\n",
      " |-- length: double (nullable = true)\n",
      " |-- level: string (nullable = true)\n",
      " |-- location: string (nullable = true)\n",
      " |-- method: string (nullable = true)\n",
      " |-- page: string (nullable = true)\n",
      " |-- registration: long (nullable = true)\n",
      " |-- sessionId: long (nullable = true)\n",
      " |-- song: string (nullable = true)\n",
      " |-- status: long (nullable = true)\n",
      " |-- ts: long (nullable = true)\n",
      " |-- userAgent: string (nullable = true)\n",
      " |-- userId: string (nullable = true)\n",
      "\n"
     ]
    }
   ],
   "source": [
    "user_log.printSchema()\n"
   ]
  },
  {
   "cell_type": "code",
   "execution_count": 8,
   "metadata": {},
   "outputs": [
    {
     "name": "stdout",
     "output_type": "stream",
     "text": [
      "+-------+------------------+----------+---------+------+------------------+--------+-----------------+------+-----------------+------+-------+--------------------+-----------------+--------------------+------------------+--------------------+--------------------+-----------------+\n",
      "|summary|            artist|      auth|firstName|gender|     itemInSession|lastName|           length| level|         location|method|   page|        registration|        sessionId|                song|            status|                  ts|           userAgent|           userId|\n",
      "+-------+------------------+----------+---------+------+------------------+--------+-----------------+------+-----------------+------+-------+--------------------+-----------------+--------------------+------------------+--------------------+--------------------+-----------------+\n",
      "|  count|            228108|    286500|   278154|278154|            286500|  278154|           228108|286500|           278154|286500| 286500|              278154|           286500|              228108|            286500|              286500|              278154|           286500|\n",
      "|   mean| 551.0852017937219|      null|     null|  null|114.41421291448516|    null|249.1171819778458|  null|             null|  null|   null|1.535358834084427...|1041.526554973822|            Infinity|210.05459685863875|1.540956889810483...|                null|59682.02278593872|\n",
      "| stddev|1217.7693079161374|      null|     null|  null|129.76726201140994|    null|99.23517921058361|  null|             null|  null|   null| 3.291321616327586E9|726.7762634630741|                 NaN| 31.50507848842214|1.5075439608226302E9|                null|109091.9499991047|\n",
      "|    min|               !!!| Cancelled| Adelaida|     F|                 0|   Adams|          0.78322|  free|       Albany, OR|   GET|  About|       1521380675000|                1|\u001c",
      "ÃÂg ÃÂtti Gr...|               200|       1538352117000|\"Mozilla/5.0 (Mac...|                 |\n",
      "|    max| ÃÂlafur Arnalds|Logged Out|   Zyonna|     M|              1321|  Wright|       3024.66567|  paid|Winston-Salem, NC|   PUT|Upgrade|       1543247354000|             2474|ÃÂau hafa slopp...|               404|       1543799476000|Mozilla/5.0 (comp...|               99|\n",
      "+-------+------------------+----------+---------+------+------------------+--------+-----------------+------+-----------------+------+-------+--------------------+-----------------+--------------------+------------------+--------------------+--------------------+-----------------+\n",
      "\n"
     ]
    }
   ],
   "source": [
    "user_log.describe().show()\n"
   ]
  },
  {
   "cell_type": "code",
   "execution_count": 9,
   "metadata": {},
   "outputs": [],
   "source": [
    "# Drop Rows with Missing Values\n",
    "user_log_valid = user_log.dropna(how = \"any\", subset = [\"userId\", \"sessionId\"])"
   ]
  },
  {
   "cell_type": "code",
   "execution_count": 10,
   "metadata": {},
   "outputs": [],
   "source": [
    "#Drop userID values that are empty strings\n",
    "user_log_valid = user_log_valid.filter(user_log_valid[\"userId\"] != \"\")"
   ]
  },
  {
   "cell_type": "code",
   "execution_count": 11,
   "metadata": {},
   "outputs": [
    {
     "data": {
      "text/plain": [
       "278154"
      ]
     },
     "execution_count": 11,
     "metadata": {},
     "output_type": "execute_result"
    }
   ],
   "source": [
    "user_log_valid.count()"
   ]
  },
  {
   "cell_type": "code",
   "execution_count": 12,
   "metadata": {},
   "outputs": [],
   "source": [
    "#Define Churn\n",
    "#create a column Churn to use as the label \n",
    "#I suggest using the Cancellation Confirmation events to define your churn, which happen for both paid and free users. \n",
    "flag_Cancellation_Confirmation_event = udf(lambda x: 1 if x == \"Cancellation Confirmation\" else 0, IntegerType())"
   ]
  },
  {
   "cell_type": "code",
   "execution_count": 13,
   "metadata": {},
   "outputs": [],
   "source": [
    "user_log_valid = user_log_valid.withColumn(\"churn\", flag_Cancellation_Confirmation_event(\"page\"))"
   ]
  },
  {
   "cell_type": "code",
   "execution_count": 14,
   "metadata": {},
   "outputs": [],
   "source": [
    "from pyspark.sql import Window\n",
    "user_window = Window \\\n",
    "    .partitionBy('userId') \\\n",
    "    .orderBy(desc('ts')) \\\n",
    "    .rangeBetween(Window.unboundedPreceding, 0)\n",
    "\n",
    "df_churn=user_log_valid.withColumn('churn', Fsum('churn').over(user_window))"
   ]
  },
  {
   "cell_type": "code",
   "execution_count": 15,
   "metadata": {},
   "outputs": [
    {
     "data": {
      "text/plain": [
       "Row(artist=None, auth='Logged In', firstName='Darianna', gender='F', itemInSession=34, lastName='Carpenter', length=None, level='free', location='Bridgeport-Stamford-Norwalk, CT', method='PUT', page='Logout', registration=1538016340000, sessionId=187, song=None, status=307, ts=1542823952000, userAgent='\"Mozilla/5.0 (iPhone; CPU iPhone OS 7_1_2 like Mac OS X) AppleWebKit/537.51.2 (KHTML, like Gecko) Version/7.0 Mobile/11D257 Safari/9537.53\"', userId='100010', churn=0)"
      ]
     },
     "execution_count": 15,
     "metadata": {},
     "output_type": "execute_result"
    }
   ],
   "source": [
    "df_churn.head()"
   ]
  },
  {
   "cell_type": "code",
   "execution_count": 16,
   "metadata": {},
   "outputs": [
    {
     "data": {
      "text/plain": [
       "[Row(churn=0, count=173), Row(churn=1, count=52)]"
      ]
     },
     "execution_count": 16,
     "metadata": {},
     "output_type": "execute_result"
    }
   ],
   "source": [
    "df_churn.dropDuplicates(['userId']).select('churn').groupby('churn').count().collect()\n"
   ]
  },
  {
   "cell_type": "code",
   "execution_count": 17,
   "metadata": {},
   "outputs": [
    {
     "name": "stdout",
     "output_type": "stream",
     "text": [
      "+-----+------+-----+\n",
      "|churn|gender|count|\n",
      "+-----+------+-----+\n",
      "|    0|     F|   84|\n",
      "|    0|     M|   89|\n",
      "|    1|     M|   32|\n",
      "|    1|     F|   20|\n",
      "+-----+------+-----+\n",
      "\n"
     ]
    },
    {
     "data": {
      "image/png": "[encoded data removed]",
      "text/plain": [
       "<matplotlib.figure.Figure at 0x7f3a000d5c50>"
      ]
     },
     "metadata": {
      "needs_background": "light"
     },
     "output_type": "display_data"
    }
   ],
   "source": [
    "# plot churn by gender\n",
    "pdf = df_churn.dropDuplicates([\"userId\", \"gender\"]).groupby([\"churn\", \"gender\"]).count().sort(\"churn\").toPandas()\n",
    "sns.barplot(x = 'churn', y='count', palette='pastel', hue = 'gender', data=pdf)\n",
    "plt.title(\"Churn Distribution by Gender\")\n",
    "plt.xlabel('Churn Status')\n",
    "plt.ylabel('Number of Users')\n",
    "df_churn.drop_duplicates(['userId', 'gender']).groupby(['churn', 'gender']).count().sort(\"churn\").show()\n",
    "plt.savefig('plot_churnbygender.png')"
   ]
  },
  {
   "cell_type": "code",
   "execution_count": 18,
   "metadata": {},
   "outputs": [
    {
     "data": {
      "text/html": [
       "<div>\n",
       "<style scoped>\n",
       "    .dataframe tbody tr th:only-of-type {\n",
       "        vertical-align: middle;\n",
       "    }\n",
       "\n",
       "    .dataframe tbody tr th {\n",
       "        vertical-align: top;\n",
       "    }\n",
       "\n",
       "    .dataframe thead th {\n",
       "        text-align: right;\n",
       "    }\n",
       "</style>\n",
       "<table border=\"1\" class=\"dataframe\">\n",
       "  <thead>\n",
       "    <tr style=\"text-align: right;\">\n",
       "      <th></th>\n",
       "      <th>level</th>\n",
       "      <th>count</th>\n",
       "    </tr>\n",
       "  </thead>\n",
       "  <tbody>\n",
       "    <tr>\n",
       "      <th>0</th>\n",
       "      <td>free</td>\n",
       "      <td>21</td>\n",
       "    </tr>\n",
       "    <tr>\n",
       "      <th>1</th>\n",
       "      <td>paid</td>\n",
       "      <td>31</td>\n",
       "    </tr>\n",
       "  </tbody>\n",
       "</table>\n",
       "</div>"
      ],
      "text/plain": [
       "  level  count\n",
       "0  free     21\n",
       "1  paid     31"
      ]
     },
     "execution_count": 18,
     "metadata": {},
     "output_type": "execute_result"
    },
    {
     "data": {
      "image/png": "[encoded data removed]",
      "text/plain": [
       "<matplotlib.figure.Figure at 0x7f3a001baba8>"
      ]
     },
     "metadata": {
      "needs_background": "light"
     },
     "output_type": "display_data"
    }
   ],
   "source": [
    "# plot churn by free or paid\n",
    "df_level = df_churn.filter('page == \"Cancellation Confirmation\"').groupby('level').count().toPandas()\n",
    "sns.barplot(x = 'level', y = 'count', palette='pastel', data = df_level)\n",
    "df_churn.filter('page == \"Cancellation Confirmation\"').groupby('level').count().toPandas()"
   ]
  },
  {
   "cell_type": "markdown",
   "metadata": {},
   "source": [
    "##### The Explotary Data Analysis on account level shows that paid users churn approximately %20 more than free users. This may be bacuse of the subscription payment compared to other alternative music apps. This inference is also supported by the fact that there is still quite a number of free users who churn.\n"
   ]
  },
  {
   "cell_type": "code",
   "execution_count": 19,
   "metadata": {},
   "outputs": [
    {
     "data": {
      "text/plain": [
       "Text(0.5,0,'Proportion of Events')"
      ]
     },
     "execution_count": 19,
     "metadata": {},
     "output_type": "execute_result"
    },
    {
     "data": {
      "image/png": "[encoded data removed]",
      "text/plain": [
       "<matplotlib.figure.Figure at 0x7f3a30ecdc50>"
      ]
     },
     "metadata": {
      "needs_background": "light"
     },
     "output_type": "display_data"
    }
   ],
   "source": [
    "# plot churn by page event\n",
    "df_page_event = df_churn.groupby(['page','churn']).count().toPandas()\n",
    "df_page_event = df_page_event[df_page_event['page'] != 'NextSong']\n",
    "df_page_event = ((df_page_event.groupby(['page','churn']).sum() / df_page_event.groupby(['churn']).sum()) *100).reset_index()\n",
    "sns.barplot(y = 'page', x = 'count', palette='pastel', data = df_page_event, hue = 'churn')\n",
    "plt.title(\"Proportion of Page Events by User Churn Status\")\n",
    "plt.ylabel('Page Event')\n",
    "plt.xlabel('Proportion of Events')\n",
    "plt.savefig('plot_ProportionPageEventsbyUserChurnStatus.png')"
   ]
  },
  {
   "cell_type": "markdown",
   "metadata": {},
   "source": [
    "#### The change of churn status from 0 to 1 according to the proportion of the page events is highest  after Roll Advert! It shows that users usually churn after roll advertising.  The second highest is the Thumbs down. This can be due to users disliking the music that they listen to."
   ]
  },
  {
   "cell_type": "code",
   "execution_count": 20,
   "metadata": {},
   "outputs": [],
   "source": [
    "#As a bonus task, you can also look into the Downgrade events.\n",
    "# Users Downgrade Their Accounts\n",
    "#Find when users downgrade their accounts and then flag those log entries\n",
    "flag_downgrade_event = udf(lambda x: 1 if x == \"Submit Downgrade\" else 0, IntegerType())"
   ]
  },
  {
   "cell_type": "code",
   "execution_count": 21,
   "metadata": {},
   "outputs": [],
   "source": [
    "user_log_valid = user_log_valid.withColumn(\"downgraded\", flag_downgrade_event(\"page\"))"
   ]
  },
  {
   "cell_type": "code",
   "execution_count": 22,
   "metadata": {},
   "outputs": [
    {
     "data": {
      "text/plain": [
       "Row(artist='Martha Tilston', auth='Logged In', firstName='Colin', gender='M', itemInSession=50, lastName='Freeman', length=277.89016, level='paid', location='Bakersfield, CA', method='PUT', page='NextSong', registration=1538173362000, sessionId=29, song='Rockpools', status=200, ts=1538352117000, userAgent='Mozilla/5.0 (Windows NT 6.1; WOW64; rv:31.0) Gecko/20100101 Firefox/31.0', userId='30', churn=0, downgraded=0)"
      ]
     },
     "execution_count": 22,
     "metadata": {},
     "output_type": "execute_result"
    }
   ],
   "source": [
    "user_log_valid.head()"
   ]
  },
  {
   "cell_type": "markdown",
   "metadata": {},
   "source": [
    "# Feature Engineering\n",
    "Once you've familiarized yourself with the data, build out the features you find promising to train your model on. To work with the full dataset, you can follow the following steps.\n",
    "- Write a script to extract the necessary features from the smaller subset of data\n",
    "- Ensure that your script is scalable, using the best practices discussed in Lesson 3\n",
    "- Try your script on the full data set, debugging your script if necessary\n",
    "\n",
    "If you are working in the classroom workspace, you can just extract features based on the small subset of data contained here. Be sure to transfer over this work to the larger dataset when you work on your Spark cluster."
   ]
  },
  {
   "cell_type": "code",
   "execution_count": 23,
   "metadata": {},
   "outputs": [],
   "source": [
    "df_churn_sql = df_churn.createOrReplaceTempView(\"feature_table\")"
   ]
  },
  {
   "cell_type": "code",
   "execution_count": 125,
   "metadata": {},
   "outputs": [
    {
     "data": {
      "text/html": [
       "<div>\n",
       "<style scoped>\n",
       "    .dataframe tbody tr th:only-of-type {\n",
       "        vertical-align: middle;\n",
       "    }\n",
       "\n",
       "    .dataframe tbody tr th {\n",
       "        vertical-align: top;\n",
       "    }\n",
       "\n",
       "    .dataframe thead th {\n",
       "        text-align: right;\n",
       "    }\n",
       "</style>\n",
       "<table border=\"1\" class=\"dataframe\">\n",
       "  <thead>\n",
       "    <tr style=\"text-align: right;\">\n",
       "      <th></th>\n",
       "      <th>userId</th>\n",
       "      <th>gender</th>\n",
       "      <th>level</th>\n",
       "      <th>is_home</th>\n",
       "      <th>sum_add_playlist</th>\n",
       "      <th>downgrade_count</th>\n",
       "      <th>error_count</th>\n",
       "      <th>help_count</th>\n",
       "      <th>roll_advert_count</th>\n",
       "      <th>submit_downgrade_count</th>\n",
       "      <th>submit_upgrade_count</th>\n",
       "      <th>thumbs_down_count</th>\n",
       "      <th>thumbs_up_count</th>\n",
       "      <th>upgrade_count</th>\n",
       "      <th>total_songs</th>\n",
       "      <th>total_sessions</th>\n",
       "      <th>account_lifetime</th>\n",
       "      <th>churn</th>\n",
       "    </tr>\n",
       "  </thead>\n",
       "  <tbody>\n",
       "    <tr>\n",
       "      <th>0</th>\n",
       "      <td>100023</td>\n",
       "      <td>0</td>\n",
       "      <td>0</td>\n",
       "      <td>1</td>\n",
       "      <td>1</td>\n",
       "      <td>0</td>\n",
       "      <td>0</td>\n",
       "      <td>0</td>\n",
       "      <td>3</td>\n",
       "      <td>0</td>\n",
       "      <td>1</td>\n",
       "      <td>0</td>\n",
       "      <td>2</td>\n",
       "      <td>1</td>\n",
       "      <td>26</td>\n",
       "      <td>2</td>\n",
       "      <td>2094885000</td>\n",
       "      <td>1</td>\n",
       "    </tr>\n",
       "    <tr>\n",
       "      <th>1</th>\n",
       "      <td>84</td>\n",
       "      <td>1</td>\n",
       "      <td>0</td>\n",
       "      <td>4</td>\n",
       "      <td>2</td>\n",
       "      <td>0</td>\n",
       "      <td>0</td>\n",
       "      <td>1</td>\n",
       "      <td>10</td>\n",
       "      <td>0</td>\n",
       "      <td>0</td>\n",
       "      <td>0</td>\n",
       "      <td>4</td>\n",
       "      <td>0</td>\n",
       "      <td>71</td>\n",
       "      <td>3</td>\n",
       "      <td>4533248000</td>\n",
       "      <td>0</td>\n",
       "    </tr>\n",
       "    <tr>\n",
       "      <th>2</th>\n",
       "      <td>100008</td>\n",
       "      <td>1</td>\n",
       "      <td>0</td>\n",
       "      <td>4</td>\n",
       "      <td>0</td>\n",
       "      <td>0</td>\n",
       "      <td>0</td>\n",
       "      <td>0</td>\n",
       "      <td>9</td>\n",
       "      <td>0</td>\n",
       "      <td>0</td>\n",
       "      <td>0</td>\n",
       "      <td>1</td>\n",
       "      <td>4</td>\n",
       "      <td>51</td>\n",
       "      <td>2</td>\n",
       "      <td>5894948000</td>\n",
       "      <td>0</td>\n",
       "    </tr>\n",
       "    <tr>\n",
       "      <th>3</th>\n",
       "      <td>100009</td>\n",
       "      <td>0</td>\n",
       "      <td>1</td>\n",
       "      <td>9</td>\n",
       "      <td>7</td>\n",
       "      <td>5</td>\n",
       "      <td>0</td>\n",
       "      <td>2</td>\n",
       "      <td>1</td>\n",
       "      <td>1</td>\n",
       "      <td>0</td>\n",
       "      <td>1</td>\n",
       "      <td>7</td>\n",
       "      <td>0</td>\n",
       "      <td>275</td>\n",
       "      <td>4</td>\n",
       "      <td>2750266000</td>\n",
       "      <td>1</td>\n",
       "    </tr>\n",
       "    <tr>\n",
       "      <th>4</th>\n",
       "      <td>100018</td>\n",
       "      <td>0</td>\n",
       "      <td>0</td>\n",
       "      <td>16</td>\n",
       "      <td>7</td>\n",
       "      <td>0</td>\n",
       "      <td>0</td>\n",
       "      <td>4</td>\n",
       "      <td>76</td>\n",
       "      <td>0</td>\n",
       "      <td>2</td>\n",
       "      <td>5</td>\n",
       "      <td>20</td>\n",
       "      <td>4</td>\n",
       "      <td>409</td>\n",
       "      <td>6</td>\n",
       "      <td>9565527000</td>\n",
       "      <td>0</td>\n",
       "    </tr>\n",
       "  </tbody>\n",
       "</table>\n",
       "</div>"
      ],
      "text/plain": [
       "   userId  gender  level  is_home  sum_add_playlist  downgrade_count  \\\n",
       "0  100023       0      0        1                 1                0   \n",
       "1      84       1      0        4                 2                0   \n",
       "2  100008       1      0        4                 0                0   \n",
       "3  100009       0      1        9                 7                5   \n",
       "4  100018       0      0       16                 7                0   \n",
       "\n",
       "   error_count  help_count  roll_advert_count  submit_downgrade_count  \\\n",
       "0            0           0                  3                       0   \n",
       "1            0           1                 10                       0   \n",
       "2            0           0                  9                       0   \n",
       "3            0           2                  1                       1   \n",
       "4            0           4                 76                       0   \n",
       "\n",
       "   submit_upgrade_count  thumbs_down_count  thumbs_up_count  upgrade_count  \\\n",
       "0                     1                  0                2              1   \n",
       "1                     0                  0                4              0   \n",
       "2                     0                  0                1              4   \n",
       "3                     0                  1                7              0   \n",
       "4                     2                  5               20              4   \n",
       "\n",
       "   total_songs  total_sessions  account_lifetime  churn  \n",
       "0           26               2        2094885000      1  \n",
       "1           71               3        4533248000      0  \n",
       "2           51               2        5894948000      0  \n",
       "3          275               4        2750266000      1  \n",
       "4          409               6        9565527000      0  "
      ]
     },
     "execution_count": 125,
     "metadata": {},
     "output_type": "execute_result"
    }
   ],
   "source": [
    "df_feature = spark.sql(\n",
    "    '''\n",
    "          SELECT DISTINCT \n",
    "          userId,  \n",
    "          (CASE WHEN gender = 'M' THEN 0 ELSE 1 END) AS gender,\n",
    "          (CASE WHEN level = 'free' THEN 0 ELSE 1 END) AS level,\n",
    "          SUM(CASE WHEN page = 'Home' THEN 1 ELSE 0 END) AS is_home,\n",
    "          SUM(CASE WHEN page = 'Add to Playlist' THEN 1 ELSE 0 END) AS sum_add_playlist,\n",
    "          SUM(CASE WHEN page = 'Downgrade' THEN 1 ELSE 0 END) AS downgrade_count,\n",
    "          SUM(CASE WHEN page = 'Error' THEN 1 ELSE 0 END) AS error_count,\n",
    "          SUM(CASE WHEN page = 'Help' THEN 1 ELSE 0 END) AS help_count,\n",
    "          SUM(CASE WHEN page = 'Roll Advert' THEN 1 ELSE 0 END) AS roll_advert_count,\n",
    "          SUM(CASE WHEN page = 'Submit Downgrade' THEN 1 ELSE 0 END) AS submit_downgrade_count,\n",
    "          SUM(CASE WHEN page = 'Submit Upgrade' THEN 1 ELSE 0 END) AS submit_upgrade_count,\n",
    "          SUM(CASE WHEN page = 'Thumbs Down' THEN 1 ELSE 0 END) AS thumbs_down_count,\n",
    "          SUM(CASE WHEN page = 'Thumbs Up' THEN 1 ELSE 0 END) AS thumbs_up_count,\n",
    "          SUM(CASE WHEN page = 'Upgrade' THEN 1 ELSE 0 END) AS upgrade_count,\n",
    "          COUNT(DISTINCT song) AS total_songs,\n",
    "          COUNT(DISTINCT sessionId) AS total_sessions,\n",
    "          MAX(ts - registration) AS account_lifetime,\n",
    "          churn\n",
    "          FROM feature_table\n",
    "          GROUP BY userId,churn,gender,level\n",
    "    ''')\n",
    "\n",
    "df_final = df_feature.toPandas()\n",
    "df_final.head()"
   ]
  },
  {
   "cell_type": "code",
   "execution_count": 235,
   "metadata": {},
   "outputs": [
    {
     "data": {
      "text/html": [
       "<div>\n",
       "<style scoped>\n",
       "    .dataframe tbody tr th:only-of-type {\n",
       "        vertical-align: middle;\n",
       "    }\n",
       "\n",
       "    .dataframe tbody tr th {\n",
       "        vertical-align: top;\n",
       "    }\n",
       "\n",
       "    .dataframe thead th {\n",
       "        text-align: right;\n",
       "    }\n",
       "</style>\n",
       "<table border=\"1\" class=\"dataframe\">\n",
       "  <thead>\n",
       "    <tr style=\"text-align: right;\">\n",
       "      <th></th>\n",
       "      <th>churn</th>\n",
       "      <th>total_songs_counts</th>\n",
       "    </tr>\n",
       "  </thead>\n",
       "  <tbody>\n",
       "    <tr>\n",
       "      <th>0</th>\n",
       "      <td>0</td>\n",
       "      <td>171745</td>\n",
       "    </tr>\n",
       "    <tr>\n",
       "      <th>1</th>\n",
       "      <td>1</td>\n",
       "      <td>33719</td>\n",
       "    </tr>\n",
       "  </tbody>\n",
       "</table>\n",
       "</div>"
      ],
      "text/plain": [
       "   churn  total_songs_counts\n",
       "0      0              171745\n",
       "1      1               33719"
      ]
     },
     "execution_count": 235,
     "metadata": {},
     "output_type": "execute_result"
    },
    {
     "data": {
      "image/png": "[encoded data removed]",
      "text/plain": [
       "<matplotlib.figure.Figure at 0x7f39f4393eb8>"
      ]
     },
     "metadata": {
      "needs_background": "light"
     },
     "output_type": "display_data"
    }
   ],
   "source": [
    "# plot churn by total songs played\n",
    "total_songs =  df_final.groupby(['churn'])['total_songs'].sum().reset_index(name='total_songs_counts')\n",
    "total_sessions =  df_final.groupby(['churn'])['total_sessions'].sum().reset_index(name='total_sessions_counts')\n",
    "account_lifetime =  df_final.groupby(['churn'])['account_lifetime'].sum().reset_index(name='account_lifetime_counts')\n",
    "\n",
    "sns.barplot(x='churn',y='total_songs_counts', palette='pastel', data=total_songs)\n",
    "total_songs\n"
   ]
  },
  {
   "cell_type": "code",
   "execution_count": 233,
   "metadata": {},
   "outputs": [
    {
     "data": {
      "text/html": [
       "<div>\n",
       "<style scoped>\n",
       "    .dataframe tbody tr th:only-of-type {\n",
       "        vertical-align: middle;\n",
       "    }\n",
       "\n",
       "    .dataframe tbody tr th {\n",
       "        vertical-align: top;\n",
       "    }\n",
       "\n",
       "    .dataframe thead th {\n",
       "        text-align: right;\n",
       "    }\n",
       "</style>\n",
       "<table border=\"1\" class=\"dataframe\">\n",
       "  <thead>\n",
       "    <tr style=\"text-align: right;\">\n",
       "      <th></th>\n",
       "      <th>churn</th>\n",
       "      <th>total_sessions_counts</th>\n",
       "    </tr>\n",
       "  </thead>\n",
       "  <tbody>\n",
       "    <tr>\n",
       "      <th>0</th>\n",
       "      <td>0</td>\n",
       "      <td>2809</td>\n",
       "    </tr>\n",
       "    <tr>\n",
       "      <th>1</th>\n",
       "      <td>1</td>\n",
       "      <td>577</td>\n",
       "    </tr>\n",
       "  </tbody>\n",
       "</table>\n",
       "</div>"
      ],
      "text/plain": [
       "   churn  total_sessions_counts\n",
       "0      0                   2809\n",
       "1      1                    577"
      ]
     },
     "execution_count": 233,
     "metadata": {},
     "output_type": "execute_result"
    },
    {
     "data": {
      "image/png": "[encoded data removed]",
      "text/plain": [
       "<matplotlib.figure.Figure at 0x7f39f447d7b8>"
      ]
     },
     "metadata": {
      "needs_background": "light"
     },
     "output_type": "display_data"
    }
   ],
   "source": [
    "# plot churn by total sessions \n",
    "sns.barplot(x='churn',y='total_sessions_counts', palette='OrRd', data=total_sessions)\n",
    "total_sessions"
   ]
  },
  {
   "cell_type": "code",
   "execution_count": 234,
   "metadata": {},
   "outputs": [
    {
     "data": {
      "text/html": [
       "<div>\n",
       "<style scoped>\n",
       "    .dataframe tbody tr th:only-of-type {\n",
       "        vertical-align: middle;\n",
       "    }\n",
       "\n",
       "    .dataframe tbody tr th {\n",
       "        vertical-align: top;\n",
       "    }\n",
       "\n",
       "    .dataframe thead th {\n",
       "        text-align: right;\n",
       "    }\n",
       "</style>\n",
       "<table border=\"1\" class=\"dataframe\">\n",
       "  <thead>\n",
       "    <tr style=\"text-align: right;\">\n",
       "      <th></th>\n",
       "      <th>churn</th>\n",
       "      <th>account_lifetime_counts</th>\n",
       "    </tr>\n",
       "  </thead>\n",
       "  <tbody>\n",
       "    <tr>\n",
       "      <th>0</th>\n",
       "      <td>0</td>\n",
       "      <td>1869384206000</td>\n",
       "    </tr>\n",
       "    <tr>\n",
       "      <th>1</th>\n",
       "      <td>1</td>\n",
       "      <td>379737577000</td>\n",
       "    </tr>\n",
       "  </tbody>\n",
       "</table>\n",
       "</div>"
      ],
      "text/plain": [
       "   churn  account_lifetime_counts\n",
       "0      0            1869384206000\n",
       "1      1             379737577000"
      ]
     },
     "execution_count": 234,
     "metadata": {},
     "output_type": "execute_result"
    },
    {
     "data": {
      "image/png": "[encoded data removed]",
      "text/plain": [
       "<matplotlib.figure.Figure at 0x7f39f4541e80>"
      ]
     },
     "metadata": {
      "needs_background": "light"
     },
     "output_type": "display_data"
    }
   ],
   "source": [
    "# plot churn by total account lifetime \n",
    "\n",
    "sns.barplot(x='churn',y='account_lifetime_counts', palette='hls', data=account_lifetime)\n",
    "account_lifetime "
   ]
  },
  {
   "cell_type": "markdown",
   "metadata": {},
   "source": [
    "#####  It is clear from the proportion of the total songs played and total sessions that users who do not churn are at least using their account by 5-folds. These are important features to use in the model. "
   ]
  },
  {
   "cell_type": "markdown",
   "metadata": {},
   "source": [
    "# Modeling\n",
    "Split the full dataset into train, test, and validation sets. Test out several of the machine learning methods you learned. Evaluate the accuracy of the various models, tuning parameters as necessary. Determine your winning model based on test accuracy and report results on the validation set. Since the churned users are a fairly small subset, I suggest using F1 score as the metric to optimize."
   ]
  },
  {
   "cell_type": "code",
   "execution_count": 25,
   "metadata": {},
   "outputs": [],
   "source": [
    "# Create a Vector\n",
    "#Create a vector from the combined Title + Body length column. \n",
    "#In the next few questions, you'll try different normalizer/scaler methods on this new column.\n",
    "assembler = VectorAssembler(inputCols=df_feature.columns[1:-1], outputCol=\"FeatureVector\")\n",
    "df_feature_vectored = assembler.transform(df_feature)\n",
    "scaler = StandardScaler(inputCol=\"FeatureVector\", outputCol=\"features\")\n",
    "df_scaled = scaler.fit(df_feature_vectored)\n",
    "df_scaled = df_scaled.transform(df_feature_vectored)\n"
   ]
  },
  {
   "cell_type": "code",
   "execution_count": 26,
   "metadata": {},
   "outputs": [
    {
     "data": {
      "text/plain": [
       "Row(features=SparseVector(16, {2: 0.0286, 3: 0.0387, 7: 0.1658, 9: 1.4851, 11: 0.0384, 12: 0.4368, 13: 0.0359, 14: 0.1952, 15: 0.6168}), label=1)"
      ]
     },
     "execution_count": 26,
     "metadata": {},
     "output_type": "execute_result"
    }
   ],
   "source": [
    "df_final = df_scaled.select(['features', df_scaled['churn'].alias('label')])\n",
    "df_final.head()"
   ]
  },
  {
   "cell_type": "code",
   "execution_count": 27,
   "metadata": {},
   "outputs": [],
   "source": [
    "train, test = df_final.randomSplit([0.8, 0.2], seed=42)\n"
   ]
  },
  {
   "cell_type": "code",
   "execution_count": 38,
   "metadata": {},
   "outputs": [],
   "source": [
    "def train_models(model, train, test):\n",
    "    '''\n",
    "    This function trains the model and make prediction with measuring f1 score.\n",
    "    \n",
    "    :param model: classification model \n",
    "    :param train: training data\n",
    "    :param test: test data\n",
    "    '''\n",
    "    classifier=model.fit(train)\n",
    "    pred = classifier.transform(test)\n",
    "    evaluator = MulticlassClassificationEvaluator(labelCol = \"label\",predictionCol=\"prediction\")\n",
    "    f1score = evaluator.evaluate(pred, {evaluator.metricName: \"f1\"})\n",
    "    acc = evaluator.evaluate(pred, {evaluator.metricName: \"accuracy\"})\n",
    "    prc = evaluator.evaluate(pred, {evaluator.metricName: \"weightedPrecision\"})\n",
    "    rec = evaluator.evaluate(pred, {evaluator.metricName: \"weightedRecall\"})\n",
    "    print('Model:{}'.format(model))\n",
    "    print('F1 Score:{}'.format(f1score))\n",
    "    print('accuracy:', acc)\n",
    "    print('precision:', prc)\n",
    "    print ('conf matrix:', pred.groupby(\"label\")\n",
    "                                   .pivot(\"prediction\")\n",
    "                                   .count()\n",
    "                                   .toPandas())\n"
   ]
  },
  {
   "cell_type": "code",
   "execution_count": 39,
   "metadata": {},
   "outputs": [],
   "source": [
    "\n",
    "# Logistic Regression\n",
    "lr = LogisticRegression(featuresCol ='features', labelCol = 'label')\n",
    "\n",
    "# Random Forest Classifier\n",
    "rf = RandomForestClassifier(featuresCol ='features', labelCol = 'label',numTrees=10,seed=42)\n",
    "\n",
    "# GBT Classifier\n",
    "gbt = GBTClassifier(featuresCol ='features', labelCol = 'label')\n",
    "\n",
    "#Linear SVC \n",
    "svm = LinearSVC(featuresCol ='features', labelCol = 'label')\n",
    "\n",
    "# Naive Bayes\n",
    "nb = NaiveBayes(featuresCol='features', labelCol='label')\n",
    "\n",
    "# classificaton models\n",
    "ClassModels=[lr,rf,gbt,svm,nb]\n"
   ]
  },
  {
   "cell_type": "code",
   "execution_count": 40,
   "metadata": {},
   "outputs": [
    {
     "name": "stdout",
     "output_type": "stream",
     "text": [
      "Model:LogisticRegression_43a2c06452f2\n",
      "F1 Score:0.6539540777841475\n",
      "accuracy: 0.7272727272727273\n",
      "precision: 0.6292029887920298\n",
      "recall: 0.7272727272727273\n",
      "conf matrix:    label  0.0  1.0\n",
      "0      0   55    3\n",
      "1      1   18    1\n",
      "Model:RandomForestClassifier_31edabdf09ad\n",
      "F1 Score:0.7136683672116744\n",
      "accuracy: 0.7532467532467533\n",
      "precision: 0.7128740824392998\n",
      "recall: 0.7532467532467533\n",
      "conf matrix:    label  0.0  1.0\n",
      "0      0   54    4\n",
      "1      1   15    4\n",
      "Model:GBTClassifier_f88b35f58d43\n",
      "F1 Score:0.6363636363636364\n",
      "accuracy: 0.6363636363636364\n",
      "precision: 0.6363636363636364\n",
      "recall: 0.6363636363636364\n",
      "conf matrix:    label  0.0  1.0\n",
      "0      0   44   14\n",
      "1      1   14    5\n",
      "Model:LinearSVC_5cace9430715\n",
      "F1 Score:0.6472342472342472\n",
      "accuracy: 0.7532467532467533\n",
      "precision: 0.5673806712767753\n",
      "recall: 0.7532467532467533\n",
      "conf matrix:    label  0.0\n",
      "0      0   58\n",
      "1      1   19\n",
      "Model:NaiveBayes_742fc0b39882\n",
      "F1 Score:0.6232478515943083\n",
      "accuracy: 0.6753246753246753\n",
      "precision: 0.587591756070017\n",
      "recall: 0.6753246753246753\n",
      "conf matrix:    label  0.0  1.0\n",
      "0      0   51    7\n",
      "1      1   18    1\n"
     ]
    }
   ],
   "source": [
    "for i in ClassModels:\n",
    "    train_models(i,train,test)"
   ]
  },
  {
   "cell_type": "markdown",
   "metadata": {},
   "source": [
    "##### The best score is from RandomForest. To enhance the model for better resuts hypertuning is applied:\n"
   ]
  },
  {
   "cell_type": "code",
   "execution_count": 105,
   "metadata": {},
   "outputs": [],
   "source": [
    "#Tune best model\n",
    "\n",
    "# Crossvalidator and parameter grid for tuning\n",
    "paramGrid = ParamGridBuilder() \\\n",
    "    .addGrid(rf.maxDepth,[2, 5, 20]) \\\n",
    "    .addGrid(rf.maxBins,[10, 20]) \\\n",
    "    .build()\n",
    "\n",
    "crossval = CrossValidator(estimator=rf,\n",
    "                          estimatorParamMaps=paramGrid,\n",
    "                          evaluator=MulticlassClassificationEvaluator(metricName='f1'),\n",
    "                          numFolds=3)\n"
   ]
  },
  {
   "cell_type": "code",
   "execution_count": 106,
   "metadata": {},
   "outputs": [],
   "source": [
    "cv = crossval.fit(train)\n",
    "prediction = cv.transform(test)"
   ]
  },
  {
   "cell_type": "code",
   "execution_count": 57,
   "metadata": {},
   "outputs": [
    {
     "name": "stdout",
     "output_type": "stream",
     "text": [
      "F-1 Score with tuned parameters:0.7106393606393605 (before tunning0.713)\n"
     ]
    }
   ],
   "source": [
    "rf_F1_score=0.71\n",
    "bestmodel_evaluator = MulticlassClassificationEvaluator(labelCol = \"label\",predictionCol=\"prediction\")\n",
    "bestmodel_f1score = bestmodel_evaluator.evaluate(prediction, {bestmodel_evaluator.metricName: \"f1\"})\n",
    "print('F-1 Score with tuned parameters:{} (before tunning {})'.format(bestmodel_f1score,rf_F1_score))\n"
   ]
  },
  {
   "cell_type": "markdown",
   "metadata": {},
   "source": [
    "# Final Steps\n",
    "Clean up your code, adding comments and renaming variables to make the code easier to read and maintain. Refer to the Spark Project Overview page and Data Scientist Capstone Project Rubric to make sure you are including all components of the capstone project and meet all expectations. Remember, this includes thorough documentation in a README file in a Github repository, as well as a web app or blog post."
   ]
  },
  {
   "cell_type": "code",
   "execution_count": 104,
   "metadata": {},
   "outputs": [
    {
     "data": {
      "text/plain": [
       "255"
      ]
     },
     "execution_count": 104,
     "metadata": {},
     "output_type": "execute_result"
    }
   ],
   "source": [
    "from subprocess import call\n",
    "call(['python', '-m', 'nbconvert', 'Sparkify_Data_Scientist_Capstone_Project.ipynb'])"
   ]
  },
  {
   "cell_type": "code",
   "execution_count": null,
   "metadata": {},
   "outputs": [],
   "source": []
  }
 ],
 "metadata": {
  "kernelspec": {
   "display_name": "Python 3",
   "language": "python",
   "name": "python3"
  },
  "language_info": {
   "codemirror_mode": {
    "name": "ipython",
    "version": 3
   },
   "file_extension": ".py",
   "mimetype": "text/x-python",
   "name": "python",
   "nbconvert_exporter": "python",
   "pygments_lexer": "ipython3",
   "version": "3.6.3"
  }
 },
 "nbformat": 4,
 "nbformat_minor": 2
}
